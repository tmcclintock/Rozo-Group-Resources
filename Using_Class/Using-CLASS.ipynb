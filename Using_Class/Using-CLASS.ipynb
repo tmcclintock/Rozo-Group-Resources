{
 "cells": [
  {
   "cell_type": "markdown",
   "metadata": {},
   "source": [
    "# Using CLASS\n",
    "CLASS is a boltzmann code, which is the terminlogy used to describe a class of programs that solve the Boltzmann Equations that give us the \"initial conditions\" for large scale structure based on assumptions about inflation, reionizations, recombination, and other \"early\" events. The other major code out there that does this is CAMB. The main difference between the two is that CAMB is implemetned in Fortran and CLASS is implemented in C++ and (IMO) has better documentation.\n",
    "\n",
    "CLASS also has a Python wrapper that interfaces with the C++ code in such a way that it can give detailed error messages if you try to use the code in a stupid way. This is helpful, because using boltzmann codes can be clunky sometimes.\n",
    "\n",
    "In this notebook I'll show you how to do something very simple: call CLASS to compute the linear and nonlinear power spectra ($P(k,z)$ and $P_{mm}(k,z)$). It also supports all the regular stuff one would expect of a cosmology code, like computing distances. I have yet to see a comparison of CLASS to astropy for these purposes. CLASS has been compared to CAMB and they agree at the ~0.1% level (or something like that).\n",
    "\n",
    "**NOTE**: the full documentation for CLASS is in the explanatory.ini file found in the top-level of the CLASS repository. The important things for our purposes is that it contains: what cosmological parameters we can pass in, which parts of the CLASS code we run when we call the compute() function."
   ]
  },
  {
   "cell_type": "code",
   "execution_count": 1,
   "metadata": {
    "collapsed": true
   },
   "outputs": [],
   "source": [
    "#Import relevane modules\n",
    "import numpy as np\n",
    "import matplotlib.pyplot as plt\n",
    "%matplotlib inline\n",
    "\n",
    "from classy import Class"
   ]
  },
  {
   "cell_type": "markdown",
   "metadata": {},
   "source": [
    "As it turns out, CLASS is a word that is used a lot in object oriented programming. Because of this, they named the Python wrapper classy. The important class that we want from classy is called \"Class\" (with a capital C). Yea, confusing."
   ]
  },
  {
   "cell_type": "code",
   "execution_count": 2,
   "metadata": {
    "collapsed": false
   },
   "outputs": [],
   "source": [
    "#Define our cosmology\n",
    "#The possible parameters we can pass in are extensive, so I'll just use some basic ones here.\n",
    "Omega_b = 0.05 #NOTE: use Omega, not omega, since they mean different things\n",
    "Omega_m = 0.3\n",
    "Omega_cdm = Omega_m - Omega_b\n",
    "h = 0.7 #This is H0/100\n",
    "A_s = 2.1e-9 #Power spectrum amplitude\n",
    "n_s = 0.96 #Power spectrum index"
   ]
  },
  {
   "cell_type": "markdown",
   "metadata": {},
   "source": [
    "CLASS needs the cosmology passed in as a dictionary. In this same dictionary, we also define what the primary output is. For this, we write mPk. This means we want the matter power spectrum. In addition, if we want the non-linear power spectrum, we say that as well. Note that we specify that we want to use the halofit (Takahashi+Smith) version. I don't believe any other non-linear versions are implemented anyway.\n",
    "\n",
    "Finally, we must specify the max $k$ value that we want $P$ evaluated up to in units of $h/Mpc$, as well as the maximum redshift that we will evaluate $P(k,z)$ up to. This is because CLASS calculates everything in a fine grid and then creates look-up tables (splines) for nearly instantaneous computation in the future."
   ]
  },
  {
   "cell_type": "code",
   "execution_count": 3,
   "metadata": {
    "collapsed": false
   },
   "outputs": [],
   "source": [
    "params = {\n",
    "    'output': 'mPk',\n",
    "    'non linear':'halofit',\n",
    "    'h':h,\n",
    "    'A_s':A_s,\n",
    "    'n_s':n_s,\n",
    "    'Omega_b':Omega_b,\n",
    "    'Omega_cdm':Omega_cdm,\n",
    "    'P_k_max_h/Mpc':1000.,\n",
    "    'z_max_pk':1.0\n",
    "    }"
   ]
  },
  {
   "cell_type": "markdown",
   "metadata": {},
   "source": [
    "Now, create a new Class \"cosmology\", set the cosmology, and call compute()."
   ]
  },
  {
   "cell_type": "code",
   "execution_count": 4,
   "metadata": {
    "collapsed": true
   },
   "outputs": [],
   "source": [
    "cosmo = Class()\n",
    "cosmo.set(params)\n",
    "cosmo.compute()"
   ]
  },
  {
   "cell_type": "markdown",
   "metadata": {},
   "source": [
    "At this point, the look-up tables are created. We can compute power spectra very quickly now.\n",
    "\n",
    "**NOTE**: Class takes as an *input* $k$ in units of $1/Mpc$, and gives as output $P$ in units of $Mpc^3$. This is *different* then the default behavior of CAMB found in Cosmosis, which has $h$ on everything."
   ]
  },
  {
   "cell_type": "code",
   "execution_count": 5,
   "metadata": {
    "collapsed": false
   },
   "outputs": [
    {
     "data": {
      "text/plain": [
       "<matplotlib.legend.Legend at 0x7fec2e849ed0>"
      ]
     },
     "execution_count": 5,
     "metadata": {},
     "output_type": "execute_result"
    },
    {
     "data": {
      "image/png": "[encoded data removed]",
      "text/plain": [
       "<matplotlib.figure.Figure at 0x7fec2ec5f610>"
      ]
     },
     "metadata": {},
     "output_type": "display_data"
    }
   ],
   "source": [
    "k = np.logspace(-5, 2, base=10, num=1000) #Mpc^-1\n",
    "z = 0.0\n",
    "#pk() and pk_lin() are for one point in k,z at a time, so here I've used Python array comprehension\n",
    "Pmm  = np.array([cosmo.pk(ki, z) for ki in k]) \n",
    "Plin = np.array([cosmo.pk_lin(ki, z) for ki in k])\n",
    "plt.loglog(k, Pmm, label=r\"$P_{mm}$\")\n",
    "plt.loglog(k, Plin, label=r\"$P_{lin}$\")\n",
    "plt.xlabel(r\"$k\\ [{\\rm Mpc}^{-1}]$\", fontsize=20)\n",
    "plt.ylabel(r\"$P\\ [{\\rm Mpc^3}]$\", fontsize=20)\n",
    "plt.legend(fontsize=14)"
   ]
  },
  {
   "cell_type": "code",
   "execution_count": null,
   "metadata": {
    "collapsed": true
   },
   "outputs": [],
   "source": []
  }
 ],
 "metadata": {
  "kernelspec": {
   "display_name": "Python 2",
   "language": "python",
   "name": "python2"
  },
  "language_info": {
   "codemirror_mode": {
    "name": "ipython",
    "version": 2
   },
   "file_extension": ".py",
   "mimetype": "text/x-python",
   "name": "python",
   "nbconvert_exporter": "python",
   "pygments_lexer": "ipython2",
   "version": "2.7.12"
  }
 },
 "nbformat": 4,
 "nbformat_minor": 0
}
