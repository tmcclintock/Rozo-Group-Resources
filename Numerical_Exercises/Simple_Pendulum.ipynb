{
 "cells": [
  {
   "cell_type": "markdown",
   "metadata": {},
   "source": [
    "# The (not so) simple pendulum\n",
    "In this notebook we will investigate two things:\n",
    "1) How numerical integrators can be used to solve ODEs that cannot be solved analytically.\n",
    "2) How good the small angle approximation is for in the case of the simple pendulum.\n",
    "\n",
    "The simple pendulum can be recast into a 1D ODE with the angle of the pendulum as the kinematic variable\n",
    "$$\n",
    "\\frac{d^2\\theta}{dt^2} = -\\frac{g}{L}\\sin{\\theta}\n",
    "$$\n",
    "In your basic physics class, you learned to make the small angle approximation $\\sin{\\theta}\\approx\\theta$, and you find that the ODE is solved by a periodic function with a period of $\\tau=\\sqrt{L/g}$. At it's max though, the true force on the pendulum is slightly different than what we calculate using this approximation, but how different? At third order we have\n",
    "$$\n",
    "\\sin{\\theta} \\approx \\theta + \\frac{\\theta^3}{6}\n",
    "$$\n",
    "which means that if the pendulum has a maximum at $30^\\circ$ ($\\pi/6$), then there is a difference of 2\\% in the force we calculate!\n",
    "\n",
    "This can have actual, real world consequences, which are often taken for granted when working with analytical solutions. Let's dive into this a bit more and see if we can work out some details."
   ]
  },
  {
   "cell_type": "code",
   "execution_count": null,
   "metadata": {
    "collapsed": true
   },
   "outputs": [],
   "source": [
    "import numpy as np\n",
    "import matplotlib.pyplot as plt\n",
    "%matplotlib inline"
   ]
  },
  {
   "cell_type": "markdown",
   "metadata": {},
   "source": [
    "## Long term differences"
   ]
  },
  {
   "cell_type": "code",
   "execution_count": null,
   "metadata": {
    "collapsed": true
   },
   "outputs": [],
   "source": []
  }
 ],
 "metadata": {
  "kernelspec": {
   "display_name": "Python 2",
   "language": "python",
   "name": "python2"
  },
  "language_info": {
   "codemirror_mode": {
    "name": "ipython",
    "version": 2
   },
   "file_extension": ".py",
   "mimetype": "text/x-python",
   "name": "python",
   "nbconvert_exporter": "python",
   "pygments_lexer": "ipython2",
   "version": "2.7.13"
  }
 },
 "nbformat": 4,
 "nbformat_minor": 2
}
