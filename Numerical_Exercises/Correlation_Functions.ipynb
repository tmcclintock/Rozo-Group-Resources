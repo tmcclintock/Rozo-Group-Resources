{
 "cells": [
  {
   "cell_type": "markdown",
   "metadata": {},
   "source": [
    "# Problem 1: deriving the correlation function\n",
    "The distribution of dark matter in the universe is described by \n",
    "$$\n",
    "\\rho(\\vec{x}) = \\bar{\\rho}(1+\\delta(\\vec{x}))\n",
    "$$\n",
    "where $\\bar{\\rho}$ is the mean density. This means that by definition $\\langle\\delta(\\vec{x})\\rangle=0$. The correlation function defines the expectation value of the covariance of $\\delta$ measured at two points separated by $\\vec{r}$, or\n",
    "$$\n",
    "\\xi(\\vec{r}) = \\langle\\delta(\\vec{x})\\delta(\\vec{x}-\\vec{r})\\rangle\\, .\n",
    "$$\n",
    "The power spectrum is defined similarly, but is what we get when we transform $\\delta(\\vec{x})$ into $k$ space. This means that the correlation function and power spectrum are related by a Fourier transform\n",
    "$$\n",
    "\\xi(\\vec{r}) = \\int \\frac{d^3\\vec{k}}{(2\\pi)^3} e^{i\\vec{k}\\cdot\\vec{r}}P(\\vec{k})\\, .\n",
    "$$\n",
    "On your own, go from the above equation to the following form\n",
    "$$\n",
    "\\xi(r) = \\frac{1}{2\\pi}\\int_0^\\infty dk k^2 P(k) j_0(kr)\n",
    "$$\n",
    "where $j_0$ is the spherical Bessel function of the first kind. What assumptions did you have to make?"
   ]
  },
  {
   "cell_type": "markdown",
   "metadata": {},
   "source": [
    "# Problem 2: doing the integral\n",
    "You have shown on paper that the correlation function is related to the power spectrum via a Fourier transform. Now your job is to implement this integral yourself. This integral look like this\n",
    "$$\n",
    "\\xi(r) = \\frac{1}{2\\pi}\\int_0^\\infty dk k^2 P(k) j_0(kr)\n",
    "$$\n",
    "In the next cell you are provided with a brief bit of code that reads in $k$ and $P(k)$. Once you have implemented the solution, compare it to what I get, which is also provided."
   ]
  },
  {
   "cell_type": "code",
   "execution_count": 1,
   "metadata": {
    "collapsed": true
   },
   "outputs": [],
   "source": [
    "#Read in various packages\n",
    "import numpy as np\n",
    "import matplotlib.pyplot as plt\n",
    "%matplotlib inline"
   ]
  },
  {
   "cell_type": "code",
   "execution_count": 2,
   "metadata": {
    "collapsed": false
   },
   "outputs": [
    {
     "data": {
      "text/plain": [
       "[<matplotlib.lines.Line2D at 0x7fc0e0ca3050>]"
      ]
     },
     "execution_count": 2,
     "metadata": {},
     "output_type": "execute_result"
    },
    {
     "data": {
      "image/png": "[encoded data removed]",
      "text/plain": [
       "<matplotlib.figure.Figure at 0x7fc0a69d4210>"
      ]
     },
     "metadata": {},
     "output_type": "display_data"
    }
   ],
   "source": [
    "#Read in k and P\n",
    "k = np.loadtxt(\"k.txt\")\n",
    "P = np.loadtxt(\"P.txt\")\n",
    "plt.loglog(k, P)"
   ]
  },
  {
   "cell_type": "markdown",
   "metadata": {},
   "source": [
    "Some things you have to consider:\n",
    "\n",
    "1) You only know $P$ at certain values of $k$. What do you do if you need $P$ at some other point?\n",
    "\n",
    "2) How do you handle the integration limits?\n",
    "\n",
    "3) How do you deal with the large range in the size of $P$?\n",
    "\n",
    "4) How do you deal with the fact that the integrand oscillates?\n",
    "\n",
    "A good intermediate step is to be able to plot the integrand for some value of $r$.\n",
    "Good luck! Try to figure this out on your own without looking at other code."
   ]
  },
  {
   "cell_type": "code",
   "execution_count": 3,
   "metadata": {
    "collapsed": false
   },
   "outputs": [
    {
     "data": {
      "text/plain": [
       "[<matplotlib.lines.Line2D at 0x7fc0e0d1e3d0>]"
      ]
     },
     "execution_count": 3,
     "metadata": {},
     "output_type": "execute_result"
    },
    {
     "data": {
      "image/png": "[encoded data removed]",
      "text/plain": [
       "<matplotlib.figure.Figure at 0x7fc0a69d4a10>"
      ]
     },
     "metadata": {},
     "output_type": "display_data"
    }
   ],
   "source": [
    "#Answer\n",
    "r  = np.loadtxt(\"r.txt\")\n",
    "xi = np.loadtxt(\"xi_mm.txt\")\n",
    "plt.loglog(r, xi)"
   ]
  },
  {
   "cell_type": "code",
   "execution_count": null,
   "metadata": {
    "collapsed": true
   },
   "outputs": [],
   "source": []
  }
 ],
 "metadata": {
  "kernelspec": {
   "display_name": "Python 2",
   "language": "python",
   "name": "python2"
  },
  "language_info": {
   "codemirror_mode": {
    "name": "ipython",
    "version": 2
   },
   "file_extension": ".py",
   "mimetype": "text/x-python",
   "name": "python",
   "nbconvert_exporter": "python",
   "pygments_lexer": "ipython2",
   "version": "2.7.12"
  }
 },
 "nbformat": 4,
 "nbformat_minor": 0
}
