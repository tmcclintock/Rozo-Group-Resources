{
 "cells": [
  {
   "cell_type": "markdown",
   "metadata": {},
   "source": [
    "# STOP!!! READ THIS FIRST\n",
    "You should only look at these solutions once you think you have working solutions of your own :)."
   ]
  },
  {
   "cell_type": "markdown",
   "metadata": {},
   "source": [
    "## Exercise 4\n",
    "This one is all mathematical and requires no programming. Our likelihood is\n",
    "$$\n",
    "\\ln L = K - \\sum_{i=1}^{N}\\frac{(t_i-T)^2}{2\\sigma_{ti}^2}.\n",
    "$$\n",
    "Taking a derivative w.r.t. to $T$ and setting this equal to 0 we get\n",
    "$$\n",
    "0 = \\sum_{i=1}^{N}\\frac{t_i-T}{\\sigma_{ti}^2}.\n",
    "$$\n",
    "If we let $1/\\sigma_{ti}^2 = w_i$ then solving for $T$ we find\n",
    "$$\n",
    "T = \\frac{\\sum_{i=1}^{N}w_it_i}{\\sum_{i=1}^{N}w_i}.\n",
    "$$\n",
    "This is a weighted mean and is the one we would expect."
   ]
  },
  {
   "cell_type": "markdown",
   "metadata": {},
   "source": [
    "## Exercise 5\n",
    "This one is also all mathematical and requires no programming. $\\chi^2$ is given by\n",
    "$$\n",
    "\\chi^2 = [Y-AX]^TC^{-1}[Y-AX].\n",
    "$$\n",
    "Taking a derivative with respct to $X$ and setting equal to 0 we have\n",
    "$$\n",
    "0 = A^TC^{-1}[Y-AX].\n",
    "$$\n",
    "Splitting up terms we find\n",
    "$$\n",
    "A^TC^{-1}AX = A^TC^{-1}Y\n",
    "$$\n",
    "And now we can solve for $X$ with\n",
    "$$\n",
    "X = [A^TC^{-1}A]^{-1}A^TC^{-1}Y.\n",
    "$$\n",
    "That is the result in equation 5."
   ]
  }
 ],
 "metadata": {
  "kernelspec": {
   "display_name": "Python 2",
   "language": "python",
   "name": "python2"
  },
  "language_info": {
   "codemirror_mode": {
    "name": "ipython",
    "version": 2
   },
   "file_extension": ".py",
   "mimetype": "text/x-python",
   "name": "python",
   "nbconvert_exporter": "python",
   "pygments_lexer": "ipython2",
   "version": "2.7.12"
  }
 },
 "nbformat": 4,
 "nbformat_minor": 0
}
