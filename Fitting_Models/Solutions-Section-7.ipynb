{
 "cells": [
  {
   "cell_type": "markdown",
   "metadata": {},
   "source": [
    "# STOP!!! READ THIS FIRST\n",
    "\n",
    "You should only look at these solutions once you think you have working solutions of your own :)."
   ]
  },
  {
   "cell_type": "markdown",
   "metadata": {},
   "source": [
    "# Section 7 - 2D Uncertainties\n",
    "\n",
    "Sometimes you have errors not only in the $y$ direction but also in $x$. What do?"
   ]
  },
  {
   "cell_type": "code",
   "execution_count": 2,
   "metadata": {
    "collapsed": true
   },
   "outputs": [],
   "source": [
    "import numpy as np\n",
    "import matplotlib.pyplot as plt\n",
    "from matplotlib.patches import Ellipse\n",
    "%matplotlib inline\n",
    "plt.rc(\"text\", usetex=True)\n",
    "plt.rc(\"font\", size=24)\n",
    "plt.rc(\"errorbar\", capsize=3)"
   ]
  },
  {
   "cell_type": "markdown",
   "metadata": {},
   "source": [
    "## Exercise 13 - Standard method\n",
    "\n",
    "Here we use the \"standard\" method of doing a linear fit to data with 2D uncertanties, which is to model the angle of the line and the orthogonal offset of the points instead of the slope and intercept."
   ]
  },
  {
   "cell_type": "code",
   "execution_count": 76,
   "metadata": {
    "collapsed": false
   },
   "outputs": [
    {
     "name": "stdout",
     "output_type": "stream",
     "text": [
      "[ 0.67] [ 9.] [ 15.]\n",
      "[-21.0335324]\n"
     ]
    },
    {
     "data": {
      "image/png": "[encoded data removed]",
      "text/plain": [
       "<matplotlib.figure.Figure at 0x7f74698a5a10>"
      ]
     },
     "metadata": {},
     "output_type": "display_data"
    }
   ],
   "source": [
    "#Get the data. We only want x, y and the error on y\n",
    "_, x_all, y_all, sigy_all, sigx_all, rxy_all = np.genfromtxt(\"data.txt\", unpack=True, delimiter='&', skip_header=1)\n",
    "sigxy_all = rxy_all*sigy_all*sigx_all #The covariance instead of the correlation\n",
    "N_data = len(x_all)\n",
    "def get_all_data():\n",
    "    return x_all, y_all, sigy_all, sigx_all, sigxy_all, rxy_all\n",
    "\n",
    "def get_good_data():\n",
    "    #Points 4 onward\n",
    "    return x_all[4:], y_all[4:], sigy_all[4:], sigx_all[4:], sigxy_all[4:], rxy_all[4:]\n",
    "\n",
    "def get_bad_data():\n",
    "    #Points 0 through 3\n",
    "    return x_all[:4], y_all[:4], sigy_all[:4], sigx_all[:4], sigxy_all[:4], rxy_all[:4]\n",
    "\n",
    "\n",
    "#Make a function that draws ellipses\n",
    "inds = np.array([1])\n",
    "x, y, sigy, sigx, sigxy, rxy = np.array(get_good_data())[:,inds]\n",
    "\n",
    "def draw_ellipses(x, y, sigx, sigy, r):\n",
    "    angles = -np.arcsin(r)/2* 180/np.pi\n",
    "    print r, sigx, sigy\n",
    "    #angles*=0\n",
    "    angles+=0\n",
    "    print angles\n",
    "    widths  = 2*sigx\n",
    "    heights = 2*sigy\n",
    "    widths  = 2*np.sqrt((sigx*np.cos(angles*np.pi/180))**2 + (sigy*np.sin(angles*np.pi/180))**2)\n",
    "    heights = 2*np.sqrt((sigx*np.sin(angles*np.pi/180))**2 + (sigy*np.cos(angles*np.pi/180))**2)\n",
    "\n",
    "    plt.errorbar(x, y, xerr=sigx, yerr=sigy, c='b', marker='.', ls='')\n",
    "    ells = [Ellipse(xy=(x[i],y[i]), width=widths[i], height=heights[i], angle=angles[i], fill=False)\\\n",
    "            for i in xrange(len(x))]\n",
    "    for e in ells:\n",
    "        plt.gca().add_artist(e)\n",
    "    return\n",
    "draw_ellipses(x, y, sigx, sigy, rxy)    \n",
    "plt.xlim(30, 100)\n",
    "plt.ylim(150, 220)\n",
    "#plt.xlim(0, 300)\n",
    "#plt.ylim(0, 700)\n",
    "plt.axes().set_aspect('equal')"
   ]
  },
  {
   "cell_type": "code",
   "execution_count": null,
   "metadata": {
    "collapsed": true
   },
   "outputs": [],
   "source": []
  }
 ],
 "metadata": {
  "kernelspec": {
   "display_name": "Python 2",
   "language": "python",
   "name": "python2"
  },
  "language_info": {
   "codemirror_mode": {
    "name": "ipython",
    "version": 2
   },
   "file_extension": ".py",
   "mimetype": "text/x-python",
   "name": "python",
   "nbconvert_exporter": "python",
   "pygments_lexer": "ipython2",
   "version": "2.7.12"
  }
 },
 "nbformat": 4,
 "nbformat_minor": 0
}
