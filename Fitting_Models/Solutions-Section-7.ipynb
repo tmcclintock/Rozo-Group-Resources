{
 "cells": [
  {
   "cell_type": "markdown",
   "metadata": {},
   "source": [
    "# STOP!!! READ THIS FIRST\n",
    "\n",
    "You should only look at these solutions once you think you have working solutions of your own :)."
   ]
  },
  {
   "cell_type": "markdown",
   "metadata": {},
   "source": [
    "# Section 7 - 2D Uncertainties\n",
    "\n",
    "Sometimes you have errors not only in the $y$ direction but also in $x$. What do?"
   ]
  },
  {
   "cell_type": "code",
   "execution_count": 3,
   "metadata": {
    "collapsed": true
   },
   "outputs": [],
   "source": [
    "import numpy as np\n",
    "import matplotlib.pyplot as plt\n",
    "from matplotlib.patches import Ellipse\n",
    "%matplotlib inline\n",
    "plt.rc(\"text\", usetex=True)\n",
    "plt.rc(\"font\", size=24)\n",
    "plt.rc(\"errorbar\", capsize=3)"
   ]
  },
  {
   "cell_type": "markdown",
   "metadata": {},
   "source": [
    "## Exercise 13 - Standard metho\n",
    "\n",
    "Here we use the \"standard\" method of doing a linear fit to data with 2D uncertanties, which is to model the angle of the line and the orthogonal offset of the points instead of the slope and intercept."
   ]
  },
  {
   "cell_type": "code",
   "execution_count": 70,
   "metadata": {
    "collapsed": false
   },
   "outputs": [
    {
     "name": "stdout",
     "output_type": "stream",
     "text": [
      "77.905242923 0.9\n"
     ]
    },
    {
     "data": {
      "text/plain": [
       "(350, 470)"
      ]
     },
     "execution_count": 70,
     "metadata": {},
     "output_type": "execute_result"
    },
    {
     "data": {
      "image/png": "[encoded data removed]",
      "text/plain": [
       "<matplotlib.figure.Figure at 0x7fd3bc9ea850>"
      ]
     },
     "metadata": {},
     "output_type": "display_data"
    }
   ],
   "source": [
    "#Get the data. We only want x, y and the error on y\n",
    "_, x_all, y_all, sigy_all, sigx_all, rxy_all = np.genfromtxt(\"data.txt\", unpack=True, delimiter='&', skip_header=1)\n",
    "sigxy_all = rxy_all*sigy_all*sigx_all #The covariance instead of the correlation\n",
    "N_data = len(x_all)\n",
    "def get_all_data():\n",
    "    return x_all, y_all, sigy_all, sigx_all, sigxy_all, rxy_all\n",
    "\n",
    "def get_good_data():\n",
    "    #Points 4 onward\n",
    "    return x_all[4:], y_all[4:], sigy_all[4:], sigx_all[4:], sigxy_all[4:], rxy_all[4:]\n",
    "\n",
    "def get_bad_data():\n",
    "    #Points 0 through 3\n",
    "    return x_all[:4], y_all[:4], sigy_all[:4], sigx_all[:4], sigxy_all[:4], rxy_all[:4]\n",
    "\n",
    "x, y, sigy, sigx, sigxy, rxy = get_good_data()\n",
    "angles = np.arctan(sigy/sigx)\n",
    "widths  = 2*np.sqrt( (sigx*np.cos(angles))**2 + (sigy*np.sin(angles))**2)\n",
    "heights = 2*np.sqrt( (sigx*np.sin(angles))**2 + (sigy*np.cos(angles))**2)\n",
    "plt.errorbar(x, y, xerr=sigx, yerr=sigy, c='b', marker='.', ls='')\n",
    "ells = [Ellipse(xy=(x[i],y[i]), width=widths[i], height=heights[i], angle=-angles[i]*180./np.pi, fill=False)\\\n",
    "        for i in range(len(x))]\n",
    "ells = [Ellipse(xy=(x[i],y[i]), width=widths[i], height=heights[i], angle=angles[i]*180./np.pi, fill=False)\\\n",
    "        for i in xrange(12,13)]\n",
    "print angles[12]*180/np.pi, rxy[12]\n",
    "for e in ells:\n",
    "    plt.gca().add_artist(e)\n",
    "plt.xlim(170, 200)\n",
    "plt.ylim(350, 470)\n",
    "#plt.xlim(0, 300)\n",
    "#plt.ylim(0, 700)"
   ]
  },
  {
   "cell_type": "code",
   "execution_count": null,
   "metadata": {
    "collapsed": true
   },
   "outputs": [],
   "source": []
  }
 ],
 "metadata": {
  "kernelspec": {
   "display_name": "Python 2",
   "language": "python",
   "name": "python2"
  },
  "language_info": {
   "codemirror_mode": {
    "name": "ipython",
    "version": 2
   },
   "file_extension": ".py",
   "mimetype": "text/x-python",
   "name": "python",
   "nbconvert_exporter": "python",
   "pygments_lexer": "ipython2",
   "version": "2.7.12"
  }
 },
 "nbformat": 4,
 "nbformat_minor": 0
}
