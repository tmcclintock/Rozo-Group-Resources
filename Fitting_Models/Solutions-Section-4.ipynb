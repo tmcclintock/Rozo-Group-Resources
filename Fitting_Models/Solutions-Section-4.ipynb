{
 "cells": [
  {
   "cell_type": "markdown",
   "metadata": {},
   "source": [
    "# STOP!!! READ THIS FIRST\n",
    "You should only look at these solutions once you think you have working solutions of your own :)."
   ]
  },
  {
   "cell_type": "markdown",
   "metadata": {},
   "source": [
    "## Section 4 - Uncertainties in best-fit parameters\n",
    "This section details how you can estimate uncertainties on your best fit parameters. For the line example we have the slope $b$ and the intercept $m$, and we want to know $\\sigma_b$ and $\\sigma_m$."
   ]
  },
  {
   "cell_type": "code",
   "execution_count": 1,
   "metadata": {
    "collapsed": false
   },
   "outputs": [],
   "source": [
    "import numpy as np\n",
    "import matplotlib.pyplot as plt\n",
    "%matplotlib inline\n",
    "plt.rc(\"text\", usetex=True)\n",
    "plt.rc(\"font\", size=24)\n",
    "plt.rc(\"errorbar\", capsize=3) #Ignore"
   ]
  },
  {
   "cell_type": "code",
   "execution_count": 4,
   "metadata": {
    "collapsed": false
   },
   "outputs": [],
   "source": [
    "#Get the data. We only want x, y and the error on y\n",
    "_, x_all, y_all, sigy_all, _, _ = np.genfromtxt(\"data.txt\", unpack=True, delimiter='&', skip_header=1)\n",
    "\n",
    "def get_all_data():\n",
    "    return x_all, y_all, sigy_all\n",
    "\n",
    "def get_good_data():\n",
    "    #Points 4 onward\n",
    "    return x_all[4:], y_all[4:], sigy_all[4:]"
   ]
  },
  {
   "cell_type": "markdown",
   "metadata": {},
   "source": [
    "## Exercise 8: jackknife and bootstrap error\n",
    "We will now estimate the variance on the slope $\\sigma_m^2$ using two methods: the jackknife method and the bootstrap method. For jackknife, we know that"
   ]
  }
 ],
 "metadata": {
  "kernelspec": {
   "display_name": "Python 2",
   "language": "python",
   "name": "python2"
  },
  "language_info": {
   "codemirror_mode": {
    "name": "ipython",
    "version": 2
   },
   "file_extension": ".py",
   "mimetype": "text/x-python",
   "name": "python",
   "nbconvert_exporter": "python",
   "pygments_lexer": "ipython2",
   "version": "2.7.12"
  }
 },
 "nbformat": 4,
 "nbformat_minor": 0
}
