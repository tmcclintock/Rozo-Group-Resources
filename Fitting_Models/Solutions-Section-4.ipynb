{
 "cells": [
  {
   "cell_type": "markdown",
   "metadata": {},
   "source": [
    "# STOP!!! READ THIS FIRST\n",
    "You should only look at these solutions once you think you have working solutions of your own :)."
   ]
  },
  {
   "cell_type": "markdown",
   "metadata": {},
   "source": [
    "## Section 4 - Uncertainties in best-fit parameters\n",
    "This section details how you can estimate uncertainties on your best fit parameters. For the line example we have the slope $b$ and the intercept $m$, and we want to know $\\sigma_b$ and $\\sigma_m$."
   ]
  },
  {
   "cell_type": "code",
   "execution_count": 1,
   "metadata": {
    "collapsed": false
   },
   "outputs": [],
   "source": [
    "import numpy as np\n",
    "import matplotlib.pyplot as plt\n",
    "%matplotlib inline\n",
    "plt.rc(\"text\", usetex=True)\n",
    "plt.rc(\"font\", size=24)\n",
    "plt.rc(\"errorbar\", capsize=3) #Ignore"
   ]
  },
  {
   "cell_type": "code",
   "execution_count": 2,
   "metadata": {
    "collapsed": false
   },
   "outputs": [
    {
     "data": {
      "text/plain": [
       "<Container object of 3 artists>"
      ]
     },
     "execution_count": 2,
     "metadata": {},
     "output_type": "execute_result"
    },
    {
     "data": {
      "image/png": "[encoded data removed]",
      "text/plain": [
       "<matplotlib.figure.Figure at 0x7f07ca8f5b50>"
      ]
     },
     "metadata": {},
     "output_type": "display_data"
    }
   ],
   "source": [
    "#Get the data. We only want x, y and the error on y\n",
    "_, x_all, y_all, sigy_all, _, _ = np.genfromtxt(\"data.txt\", unpack=True, delimiter='&', skip_header=1)\n",
    "N_data = len(x_all)\n",
    "def get_all_data():\n",
    "    return x_all, y_all, sigy_all\n",
    "\n",
    "def get_good_data():\n",
    "    #Points 4 onward\n",
    "    return x_all[4:], y_all[4:], sigy_all[4:]\n",
    "\n",
    "def get_bad_data():\n",
    "    #Points 0 through 3\n",
    "    return x_all[:4], y_all[:4], sigy_all[:4]\n",
    "x, y, sigy = get_good_data()\n",
    "plt.errorbar(x, y, sigy, c='b', ls='', marker='.')\n",
    "x, y, sigy = get_bad_data()\n",
    "plt.errorbar(x, y, sigy, c='r', ls='', marker='.')"
   ]
  },
  {
   "cell_type": "markdown",
   "metadata": {},
   "source": [
    "## Exercise 8: jackknife and bootstrap error\n",
    "We will now estimate the variance on the slope $\\sigma_m^2$ using two methods: the jackknife method and the bootstrap method. As a reminder, the reason for doing this is that these methods can get around the issue of having *bad data*, or the first four points."
   ]
  },
  {
   "cell_type": "code",
   "execution_count": 3,
   "metadata": {
    "collapsed": true
   },
   "outputs": [],
   "source": [
    "#Write a function that takes some x, y, sigy and spits out a b, m\n",
    "def get_bm(x, y, sigy):\n",
    "    C = np.diag(sigy**2)\n",
    "    Cinv = np.linalg.inv(C)\n",
    "    A = np.vstack((np.ones_like(x), x)).T\n",
    "    cov = np.linalg.inv(np.dot(A.T, np.dot(Cinv, A)))\n",
    "    b, m = np.dot(cov, np.dot(A.T, np.dot(Cinv, y)))\n",
    "    return b, m"
   ]
  },
  {
   "cell_type": "code",
   "execution_count": 4,
   "metadata": {
    "collapsed": false
   },
   "outputs": [
    {
     "name": "stdout",
     "output_type": "stream",
     "text": [
      "m_true =  1.07674752417\n",
      "Bootstrap:  1.07674752417 0.609632639422\n",
      "Jackknife:  1.07525455382 0.874040090883\n"
     ]
    }
   ],
   "source": [
    "#Get b_true and m_true\n",
    "x, y, sigy = get_all_data()\n",
    "b_true, m_true = get_bm(x, y, sigy)\n",
    "\n",
    "#First do bootstrap\n",
    "np.random.seed(123456)\n",
    "M = 1000\n",
    "data = np.array((x, y, sigy)).T\n",
    "inds = np.arange(N_data)\n",
    "inds_boot = np.random.choice(inds, size=(M, N_data), replace=True)\n",
    "bs_boot = np.zeros(M)\n",
    "ms_boot = np.zeros(M)\n",
    "for i in range(M):\n",
    "    xi, yi, sigyi = data[inds_boot[i]].T\n",
    "    bs_boot[i], ms_boot[i] = get_bm(xi, yi, sigyi)\n",
    "sigm_boot = np.sqrt(1./M * np.sum((m_true-ms_boot)**2))\n",
    "    \n",
    "#Now do jackknife\n",
    "bs_jk = np.zeros(N_data)\n",
    "ms_jk = np.zeros(N_data)\n",
    "data = np.array(get_all_data()).T\n",
    "for i in range(N_data):\n",
    "    x, y, sigy = np.delete(data, i, axis=0).T\n",
    "    bs_jk[i], ms_jk[i] = get_bm(x, y, sigy)\n",
    "m_ave = np.mean(ms_jk)\n",
    "sigm_jk = np.sqrt((N_data-1.0)/N_data * np.sum((m_ave-ms_jk)**2))\n",
    "print \"m_true = \", m_true\n",
    "print \"Bootstrap: \", m_true, sigm_boot\n",
    "print \"Jackknife: \", m_ave, sigm_jk"
   ]
  },
  {
   "cell_type": "markdown",
   "metadata": {},
   "source": [
    "It's not really obvious which is better."
   ]
  },
  {
   "cell_type": "markdown",
   "metadata": {},
   "source": [
    "## Exercise 9: mixture-based outliers\n",
    "Here we are redoing exercise 6, but without the bad outlier points, or the first four data points in our file. Then we redo it again with the uncertainies cut in half, and we should see some wacky corner plots."
   ]
  },
  {
   "cell_type": "code",
   "execution_count": 5,
   "metadata": {
    "collapsed": true
   },
   "outputs": [],
   "source": [
    "#Write our likelihood. First step is a prior\n",
    "def lnprior(params):\n",
    "    m, b, Pb, Yb, Vb = params\n",
    "    if m < 0 or b < -100: return -np.inf\n",
    "    if Pb < 0 or Pb > 1: return -np.inf\n",
    "    if Vb < 0 or Vb > 10000: return -np.inf\n",
    "    if Yb < 0 or Yb > 1000: return -np.inf\n",
    "    return 0\n",
    "\n",
    "#Now a probability\n",
    "def lnprob(params, x, y, sigy):\n",
    "    m, b, Pb, Yb, Vb = params\n",
    "    left  = (1.-Pb)/np.sqrt(2*np.pi*sigy**2)*np.exp(-0.5*(y-m*x-b)**2/sigy**2)\n",
    "    right = Pb/np.sqrt(2*np.pi*(Vb+sigy**2))*np.exp(-0.5*(y-Yb)**2/(Vb+sigy**2))\n",
    "    return np.sum(np.log(left+right))\n",
    "\n",
    "#Now the total likelihood\n",
    "def lnlike(params, x, y ,sigy):\n",
    "    lp = lnprior(params)\n",
    "    if not np.isfinite(lp): return -np.inf\n",
    "    return lp + lnprob(params, x, y, sigy)\n",
    "\n",
    "guess = [m_true, b_true, 0.2, 1.0, 2.0]"
   ]
  },
  {
   "cell_type": "code",
   "execution_count": 6,
   "metadata": {
    "collapsed": true
   },
   "outputs": [],
   "source": [
    "#Write a function that does the optimization and MCMC and returns a chain\n",
    "def get_chain(x, y, sigy):\n",
    "    from scipy import optimize as op\n",
    "    nll = lambda *args: -lnlike(*args)\n",
    "    result = op.minimize(nll, guess, args=(x, y, sigy), method='Powell')\n",
    "    import emcee\n",
    "    ndim, nwalkers = 5, 20\n",
    "    nsteps = 10000\n",
    "    pos = [result['x'] + 1e-2*np.random.randn(ndim) for i in range(nwalkers)]\n",
    "    sampler = emcee.EnsembleSampler(nwalkers, ndim, lnlike, args=(x, y, sigy))\n",
    "    output = sampler.run_mcmc(pos, nsteps) #We don't use \"output\" at all\n",
    "    return sampler.flatchain"
   ]
  },
  {
   "cell_type": "code",
   "execution_count": 7,
   "metadata": {
    "collapsed": false
   },
   "outputs": [
    {
     "name": "stderr",
     "output_type": "stream",
     "text": [
      "/home/tom/anaconda2/lib/python2.7/site-packages/scipy/optimize/optimize.py:1850: RuntimeWarning: invalid value encountered in double_scalars\n",
      "  tmp2 = (x - v) * (fx - fw)\n",
      "/home/tom/anaconda2/lib/python2.7/site-packages/emcee/ensemble.py:335: RuntimeWarning: invalid value encountered in subtract\n",
      "  lnpdiff = (self.dim - 1.) * np.log(zz) + newlnprob - lnprob0\n"
     ]
    },
    {
     "name": "stdout",
     "output_type": "stream",
     "text": [
      "(200000, 2)\n",
      "(200000, 2)\n"
     ]
    },
    {
     "name": "stderr",
     "output_type": "stream",
     "text": [
      "/home/tom/anaconda2/lib/python2.7/site-packages/emcee/ensemble.py:336: RuntimeWarning: invalid value encountered in greater\n",
      "  accept = (lnpdiff > np.log(self._random.rand(len(lnpdiff))))\n"
     ]
    }
   ],
   "source": [
    "#Get a chain from the regular good data and from the good data with\n",
    "#smaller errorbars\n",
    "x, y, sigy = get_good_data()\n",
    "chain1 = get_chain(x, y, sigy)[:, :2] #Just keep m, b\n",
    "chain2 = get_chain(x, y, sigy/2.)[:, :2]\n",
    "print chain1.shape\n",
    "print chain2.shape"
   ]
  },
  {
   "cell_type": "code",
   "execution_count": 8,
   "metadata": {
    "collapsed": false
   },
   "outputs": [
    {
     "data": {
      "image/png": "[encoded data removed]",
      "text/plain": [
       "<matplotlib.figure.Figure at 0x7f07c73a85d0>"
      ]
     },
     "metadata": {},
     "output_type": "display_data"
    }
   ],
   "source": [
    "#Make a corner plot for each\n",
    "import corner\n",
    "fig = corner.corner(chain1, labels=[r\"$m$\", r\"$b$\"], plot_datapoints=False)"
   ]
  },
  {
   "cell_type": "code",
   "execution_count": 9,
   "metadata": {
    "collapsed": false
   },
   "outputs": [
    {
     "data": {
      "image/png": "[encoded data removed]",
      "text/plain": [
       "<matplotlib.figure.Figure at 0x7f07b4a34350>"
      ]
     },
     "metadata": {},
     "output_type": "display_data"
    }
   ],
   "source": [
    "fig = corner.corner(chain2, labels=[r\"$m$\", r\"$b$\"], plot_datapoints=False)"
   ]
  },
  {
   "cell_type": "code",
   "execution_count": 10,
   "metadata": {
    "collapsed": false
   },
   "outputs": [
    {
     "name": "stdout",
     "output_type": "stream",
     "text": [
      "basic:  [  0.10778048  18.24616675]\n",
      "chain1:  [  0.1124701   19.02757328]\n",
      "chain2:  [  0.20955607  28.79221843]\n"
     ]
    }
   ],
   "source": [
    "C = np.diag(sigy**2)\n",
    "Cinv = np.linalg.inv(C)\n",
    "A = np.vstack((np.ones_like(x), x)).T\n",
    "cov = np.linalg.inv(np.dot(A.T, np.dot(Cinv, A)))\n",
    "print \"basic: \", np.flip(np.sqrt(np.diagonal(cov)), 0)\n",
    "print \"chain1: \", np.std(chain1, 0)\n",
    "print \"chain2: \", np.std(chain2, 0)"
   ]
  },
  {
   "cell_type": "markdown",
   "metadata": {},
   "source": [
    "Critically, we see that reducing the error on our points (chain2) actually **increased** the uncertainty on our model parameters (m, b). This is why it pays to be honest about your measurement error!"
   ]
  },
  {
   "cell_type": "code",
   "execution_count": null,
   "metadata": {
    "collapsed": true
   },
   "outputs": [],
   "source": []
  }
 ],
 "metadata": {
  "kernelspec": {
   "display_name": "Python 2",
   "language": "python",
   "name": "python2"
  },
  "language_info": {
   "codemirror_mode": {
    "name": "ipython",
    "version": 2
   },
   "file_extension": ".py",
   "mimetype": "text/x-python",
   "name": "python",
   "nbconvert_exporter": "python",
   "pygments_lexer": "ipython2",
   "version": "2.7.12"
  }
 },
 "nbformat": 4,
 "nbformat_minor": 0
}
