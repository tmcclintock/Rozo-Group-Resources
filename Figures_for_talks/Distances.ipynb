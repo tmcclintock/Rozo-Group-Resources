{
 "cells": [
  {
   "cell_type": "markdown",
   "metadata": {},
   "source": [
    "# Distances\n",
    "This notebook computes various distances as a function of redshift, and can also do as a function of age of the Universe."
   ]
  },
  {
   "cell_type": "code",
   "execution_count": 1,
   "metadata": {},
   "outputs": [],
   "source": [
    "#Imports\n",
    "import numpy as np\n",
    "import matplotlib.pyplot as plt\n",
    "%matplotlib inline\n",
    "plt.rc(\"text\", usetex=True) #Comment this if LaTeX not installed\n",
    "plt.rc(\"font\", size=14, family='serif')"
   ]
  },
  {
   "cell_type": "code",
   "execution_count": 2,
   "metadata": {},
   "outputs": [
    {
     "data": {
      "text/plain": [
       "Text(0,0.5,'$E(z|\\\\Omega_m=0.3)$')"
      ]
     },
     "execution_count": 2,
     "metadata": {},
     "output_type": "execute_result"
    },
    {
     "data": {
      "image/png": "[encoded data removed]",
      "text/plain": [
       "<Figure size 432x288 with 1 Axes>"
      ]
     },
     "metadata": {},
     "output_type": "display_data"
    }
   ],
   "source": [
    "#Define E(z) in the most general way\n",
    "def calc_Ez(z, Omega_m, Omega_L=None, Omega_k=0, w=-1):\n",
    "    if Omega_L is None:\n",
    "        Omega_L = 1.- Omega_m - Omega_k\n",
    "    z_plus_1 = 1.+z\n",
    "    return np.sqrt(Omega_m*z_plus_1**3 + Omega_k*z_plus_1**2 + Omega_L*z_plus_1**(3.*(1.+w)))\n",
    "\n",
    "z = np.linspace(0,5)\n",
    "Ez = calc_Ez(z, 0.3)\n",
    "plt.plot(z, Ez)\n",
    "plt.xlabel(\"redshift\")\n",
    "plt.ylabel(r\"$E(z|\\Omega_m=0.3)$\")"
   ]
  },
  {
   "cell_type": "code",
   "execution_count": 3,
   "metadata": {},
   "outputs": [],
   "source": [
    "#in progress..."
   ]
  }
 ],
 "metadata": {
  "kernelspec": {
   "display_name": "Python 2",
   "language": "python",
   "name": "python2"
  },
  "language_info": {
   "codemirror_mode": {
    "name": "ipython",
    "version": 2
   },
   "file_extension": ".py",
   "mimetype": "text/x-python",
   "name": "python",
   "nbconvert_exporter": "python",
   "pygments_lexer": "ipython2",
   "version": "2.7.13"
  }
 },
 "nbformat": 4,
 "nbformat_minor": 2
}
