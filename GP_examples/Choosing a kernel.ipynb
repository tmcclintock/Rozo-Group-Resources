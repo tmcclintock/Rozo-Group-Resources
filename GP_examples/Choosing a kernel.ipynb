{
 "cells": [
  {
   "cell_type": "markdown",
   "metadata": {},
   "source": [
    "# Choosing a kernel for your GP\n",
    "The critical piece for a Gaussian process is the kernel function that specifies how the covariance matrix looks. You can read all about how to choose them [here](http://www.cs.toronto.edu/~duvenaud/cookbook/index.html). In this notebook I'll actually show you what happens when you choose different kernels for different problems, and what the effects are."
   ]
  },
  {
   "cell_type": "code",
   "execution_count": 1,
   "metadata": {
    "collapsed": true
   },
   "outputs": [],
   "source": [
    "import numpy as np\n",
    "import matplotlib.pyplot as plt\n",
    "%matplotlib inline\n",
    "import george\n",
    "import george.kernels as kernels\n",
    "np.random.seed(123456)"
   ]
  },
  {
   "cell_type": "markdown",
   "metadata": {},
   "source": [
    "## Kernel should resemble the data\n",
    "In the kernel cookbook I linked, a general piece of advice is that you will get better performace from your GP/emulator if the kernel looks like your data, so using a periodic kernel for a periodic function is better than using the squared exponential function.\n",
    "Let's start by messing with the Hogg data again and seeing what happens with different kernels."
   ]
  },
  {
   "cell_type": "code",
   "execution_count": 3,
   "metadata": {
    "collapsed": false
   },
   "outputs": [],
   "source": [
    "data = np.genfromtxt(\"data.txt\", skip_header=1, delimiter='&')\n",
    "\n",
    "#These functions return the different parts of the\n",
    "#Hogg data, specifically the 'good' and 'bad' sections.\n",
    "def good_data():\n",
    "    return data[4:,1:4].T\n",
    "\n",
    "def bad_data():\n",
    "    return data[:4, 1:4].T\n",
    "\n",
    "def all_data():\n",
    "    return np.concatenate((bad_data().T, good_data().T)).T"
   ]
  },
  {
   "cell_type": "code",
   "execution_count": 4,
   "metadata": {
    "collapsed": false
   },
   "outputs": [
    {
     "name": "stdout",
     "output_type": "stream",
     "text": [
      "Optimization terminated successfully.\n"
     ]
    },
    {
     "data": {
      "text/plain": [
       "<matplotlib.collections.PolyCollection at 0x7f3ab5016650>"
      ]
     },
     "execution_count": 4,
     "metadata": {},
     "output_type": "execute_result"
    },
    {
     "data": {
      "image/png": "[encoded data removed]",
      "text/plain": [
       "<matplotlib.figure.Figure at 0x7f3ab8cf7950>"
      ]
     },
     "metadata": {},
     "output_type": "display_data"
    }
   ],
   "source": [
    "#Obtain and plot the data\n",
    "x, y, yerr = good_data()\n",
    "plt.errorbar(x, y, yerr, ls='', marker='.', c='black')\n",
    "#Create a GP with the SE kernel, optimize, and then predict\n",
    "kernel = kernels.ConstantKernel(1.0)*kernels.ExpSquaredKernel(1.0)\n",
    "gp = george.GP(kernel)\n",
    "gp.compute(x, yerr)\n",
    "op_result = gp.optimize(x, y, yerr)\n",
    "d = np.linspace(min(x), max(x), 100)\n",
    "mu, cov = gp.predict(y, d)\n",
    "err = np.sqrt(np.diag(cov))\n",
    "plt.errorbar(x, y, yerr, ls='', marker='.', c='black')\n",
    "plt.plot(d, mu, c='r')\n",
    "plt.fill_between(d, mu+err, mu-err, color='r', alpha=0.3)"
   ]
  },
  {
   "cell_type": "markdown",
   "metadata": {},
   "source": [
    "This is the same GP we created in the last example. Let's see what happens when we make a simple change and use the squared exponential kernel *without* including the $k_o$ variance as a hyperparameter, so now\n",
    "$$k(x_i,x_j) = \\exp\\left(-\\frac{(x_i-x_j)^2}{2\\sigma^2}\\right). $$"
   ]
  },
  {
   "cell_type": "code",
   "execution_count": 12,
   "metadata": {
    "collapsed": false
   },
   "outputs": [
    {
     "name": "stdout",
     "output_type": "stream",
     "text": [
      "Optimization terminated successfully.\n"
     ]
    },
    {
     "data": {
      "text/plain": [
       "<matplotlib.collections.PolyCollection at 0x7f3aafbbbf10>"
      ]
     },
     "execution_count": 12,
     "metadata": {},
     "output_type": "execute_result"
    },
    {
     "data": {
      "image/png": "[encoded data removed]",
      "text/plain": [
       "<matplotlib.figure.Figure at 0x7f3aafcc2c10>"
      ]
     },
     "metadata": {},
     "output_type": "display_data"
    }
   ],
   "source": [
    "#Obtain and plot the data\n",
    "x, y, yerr = good_data()\n",
    "plt.errorbar(x, y, yerr, ls='', marker='.', c='black')\n",
    "#Create a GP with the SE kernel without variance, optimize, and then predict\n",
    "kernel = kernels.ExpSquaredKernel(1)\n",
    "gp = george.GP(kernel)\n",
    "gp.compute(x, yerr)\n",
    "op_result = gp.optimize(x, y, yerr)\n",
    "d = np.linspace(min(x), max(x), 100)\n",
    "mu, cov = gp.predict(y, d)\n",
    "err = np.sqrt(np.diag(cov))\n",
    "plt.errorbar(x, y, yerr, ls='', marker='.', c='black')\n",
    "plt.plot(d, mu, c='r')\n",
    "plt.fill_between(d, mu+err, mu-err, color='r', alpha=0.3)"
   ]
  },
  {
   "cell_type": "markdown",
   "metadata": {},
   "source": [
    "Womp womp womp... The emulator fell on its face and failed miserably. This is because without the $k_0$ parameter out front to scale the covariance between everything the GP cannot handle this set of data. The good news is that this is a common enough problem that there is a fix! Oftentimes when working with GPs a very common thing to do is rescale your $y$ data so that it has unit variance and no mean, and then when the GP makes a prediction again you can just rescale and then add the mean back on."
   ]
  },
  {
   "cell_type": "code",
   "execution_count": null,
   "metadata": {
    "collapsed": true
   },
   "outputs": [],
   "source": [
    "#Obtain and plot the data\n",
    "x_initial, y_initial, yerr_initial = good_data()\n",
    "#TAKE BACK UP HERE NEXT TIME\n",
    "\n",
    "plt.errorbar(x, y, yerr, ls='', marker='.', c='black')\n",
    "#Create a GP with the SE kernel without variance, optimize, and then predict\n",
    "kernel = kernels.ExpSquaredKernel(1)\n",
    "gp = george.GP(kernel)\n",
    "gp.compute(x, yerr)\n",
    "op_result = gp.optimize(x, y, yerr)\n",
    "d = np.linspace(min(x), max(x), 100)\n",
    "mu, cov = gp.predict(y, d)\n",
    "err = np.sqrt(np.diag(cov))\n",
    "plt.errorbar(x, y, yerr, ls='', marker='.', c='black')\n",
    "plt.plot(d, mu, c='r')\n",
    "plt.fill_between(d, mu+err, mu-err, color='r', alpha=0.3)"
   ]
  }
 ],
 "metadata": {
  "kernelspec": {
   "display_name": "Python 2",
   "language": "python",
   "name": "python2"
  },
  "language_info": {
   "codemirror_mode": {
    "name": "ipython",
    "version": 2
   },
   "file_extension": ".py",
   "mimetype": "text/x-python",
   "name": "python",
   "nbconvert_exporter": "python",
   "pygments_lexer": "ipython2",
   "version": "2.7.12"
  }
 },
 "nbformat": 4,
 "nbformat_minor": 0
}
