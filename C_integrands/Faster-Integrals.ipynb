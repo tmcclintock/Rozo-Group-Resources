{
 "cells": [
  {
   "cell_type": "markdown",
   "metadata": {},
   "source": [
    "# Example 0: Integrating in Python\n",
    "Ok, so you need to do an integral. You are using Python, so you decide to use quad() from scipy.integrate. The thing is, your integral ends up taking forever. How can we speed this up? Well, the answer is to write your function in C and call it from in Python. Let's see how."
   ]
  },
  {
   "cell_type": "code",
   "execution_count": 1,
   "metadata": {
    "collapsed": true
   },
   "outputs": [],
   "source": [
    "#Import everything we need\n",
    "import numpy as np\n",
    "import time\n",
    "from scipy.integrate import quad"
   ]
  },
  {
   "cell_type": "markdown",
   "metadata": {},
   "source": [
    "Our integrand is $\\cos(x)/x^3$ evaluated from $\\pi$ to $2\\pi$. Yes, I know, this can be done analytically. This is just for demonstrative purposes. Pretend it was more complicated. The answer to this integral is approximately -0.0152115."
   ]
  },
  {
   "cell_type": "code",
   "execution_count": 2,
   "metadata": {
    "collapsed": true
   },
   "outputs": [],
   "source": [
    "def integrand(x):\n",
    "    return np.cos(x)/(x*x*x)"
   ]
  },
  {
   "cell_type": "markdown",
   "metadata": {},
   "source": [
    "We now have our integrand in Python-function form. Let's time how long it takes to do this integral one hundred thousand times."
   ]
  },
  {
   "cell_type": "code",
   "execution_count": 3,
   "metadata": {
    "collapsed": false
   },
   "outputs": [
    {
     "name": "stdout",
     "output_type": "stream",
     "text": [
      "Got answer:  (-0.015211452880075338, 2.903565890448967e-16)\n",
      "Time with Python integrand:  3.89219403267\n"
     ]
    }
   ],
   "source": [
    "start = time.time()\n",
    "for i in range(100000):\n",
    "    answer = quad(integrand, np.pi, 2*np.pi)\n",
    "end = time.time()\n",
    "print \"Got answer: \", answer\n",
    "print \"Time with Python integrand: \", end - start"
   ]
  },
  {
   "cell_type": "markdown",
   "metadata": {},
   "source": [
    "# Example 1: Basic use of ctypes\n",
    "I also have the integrand written in C in the file integrand.c. The text of the file is:\n",
    "\n",
    "```c\n",
    "#include<math.h>\n",
    "\n",
    "double integrand(int n, double x){\n",
    "  return cos(x)/(x*x*x);\n",
    "}\n",
    "```\n",
    "\n",
    "To compile the file, we can use the makefile by simply calling $make. Inside the makefile we have the following:\n",
    "\n",
    "```\n",
    "integrand:\n",
    "\tgcc -shared -o integrand.so -fPIC integrand.c\n",
    "```\n",
    "\n",
    "The two flags that must be turned on to make a *shared object (.so)* file are -shared and -fPIC. Now we can get this .so object and its functions into our Python program."
   ]
  },
  {
   "cell_type": "code",
   "execution_count": 4,
   "metadata": {
    "collapsed": false
   },
   "outputs": [],
   "source": [
    "import ctypes\n",
    "lib = ctypes.cdll.LoadLibrary(\"integrand.so\")\n",
    "c_integrand = lib.integrand\n",
    "c_integrand.argtypes = (ctypes.c_int, ctypes.c_double)\n",
    "c_integrand.restype  = ctypes.c_double"
   ]
  },
  {
   "cell_type": "code",
   "execution_count": 5,
   "metadata": {
    "collapsed": false
   },
   "outputs": [
    {
     "name": "stdout",
     "output_type": "stream",
     "text": [
      "Got answer:  (-0.015211452880075338, 2.903565890448967e-16)\n",
      "Time with ctypes integrand:  1.57994008064\n"
     ]
    }
   ],
   "source": [
    "start = time.time()\n",
    "for i in range(100000):\n",
    "    answer = quad(c_integrand, np.pi, 2*np.pi)\n",
    "end = time.time()\n",
    "print \"Got answer: \", answer\n",
    "print \"Time with ctypes integrand: \", end - start"
   ]
  },
  {
   "cell_type": "markdown",
   "metadata": {},
   "source": [
    "**NOTE**: an integrand being used for quad needs the signature as we have written it: an integer followed by a double, with a double as the return type. This is for compatability with nquad(), which I'll get to in another notebook.\n",
    "\n",
    "Also, the exact difference in performance at this point depends on what version of gcc/numpy/scipy you have. The optimization was more pronounced for my laptop (factor of >2 increase) which had a more recent version of gcc than calvin."
   ]
  },
  {
   "cell_type": "markdown",
   "metadata": {
    "collapsed": true
   },
   "source": [
    "# Example 2: Extra arguments\n",
    "Let's say that our integrand was no $\\cos(ax)/x^b$ and we didn't know what $a$ and $b$ were ahead of time. They should now be arguments for our function. Here is how to handle this with Python."
   ]
  },
  {
   "cell_type": "code",
   "execution_count": 6,
   "metadata": {
    "collapsed": false
   },
   "outputs": [
    {
     "name": "stdout",
     "output_type": "stream",
     "text": [
      "(-0.015211452880075338, 2.903565890448967e-16)\n"
     ]
    }
   ],
   "source": [
    "def integrand2(x, a, b):\n",
    "    return np.cos(a*x)/x**b\n",
    "\n",
    "print quad(integrand2, np.pi, 2*np.pi, args=(1.0, 3.0))"
   ]
  },
  {
   "cell_type": "markdown",
   "metadata": {},
   "source": [
    "I have now added an extra function to the integrand.c file:\n",
    "\n",
    "```c\n",
    "double integrand2(int n, double args[n]){\n",
    "  double x = args[0];\n",
    "  double a = args[1];\n",
    "  double b = args[2];\n",
    "  return cos(a*x)/pow(x,b);\n",
    "}\n",
    "```\n",
    "\n",
    "Now, the integration variable and the arguments are all passed through the array $x$. The length of this array is specified by $n$. Spoiler: this gives us some insight into how this and nquad are implemented. In nquad, the x[n] array is used for all of the integration variables and the arguments. This seems not well thought out, compared to other integrators.\n",
    "\n",
    "Let's use ctypes again to get at this function and integrate it."
   ]
  },
  {
   "cell_type": "code",
   "execution_count": 7,
   "metadata": {
    "collapsed": false
   },
   "outputs": [
    {
     "name": "stdout",
     "output_type": "stream",
     "text": [
      "(-0.015211452880075338, 2.903565890448967e-16)\n"
     ]
    }
   ],
   "source": [
    "c_integrand2 = lib.integrand2\n",
    "c_integrand2.argtypes = (ctypes.c_int, ctypes.c_double)\n",
    "c_integrand2.restype  = ctypes.c_double\n",
    "\n",
    "print quad(c_integrand2, np.pi, 2*np.pi, args=(1.0, 3.0))"
   ]
  },
  {
   "cell_type": "markdown",
   "metadata": {},
   "source": [
    "Boom. We get the same answer whether we use Python or C."
   ]
  },
  {
   "cell_type": "markdown",
   "metadata": {},
   "source": [
    "# Example 3: Splines (aka look up tables)\n",
    "Usually in our group we need to do integrals over the power spectrum $P(k)$ or the mass function $\\frac{dn}{dM}(M)$ and there is no analytic form of part of or all of our integrand. In this case we use a spline, but a spline is a complicated object in Python, which cannot be passed directly to C without serious fenagling with Cython (which I don't know how to use). Our options are:\n",
    "1. Pass in $P$ and $k$, and create a spline each time we call the integrand (bad - slow).\n",
    "2. Use an integrator in C, and write a wrapper that calls this, and then return the result.\n",
    "\n",
    "We will use option 2. This is under development."
   ]
  },
  {
   "cell_type": "code",
   "execution_count": null,
   "metadata": {
    "collapsed": true
   },
   "outputs": [],
   "source": []
  }
 ],
 "metadata": {
  "kernelspec": {
   "display_name": "Python 2",
   "language": "python",
   "name": "python2"
  },
  "language_info": {
   "codemirror_mode": {
    "name": "ipython",
    "version": 2
   },
   "file_extension": ".py",
   "mimetype": "text/x-python",
   "name": "python",
   "nbconvert_exporter": "python",
   "pygments_lexer": "ipython2",
   "version": "2.7.12"
  }
 },
 "nbformat": 4,
 "nbformat_minor": 0
}
